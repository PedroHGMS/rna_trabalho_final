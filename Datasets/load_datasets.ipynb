{
  "cells": [
    {
      "cell_type": "markdown",
      "metadata": {
        "id": "view-in-github",
        "colab_type": "text"
      },
      "source": [
        "<a href=\"https://colab.research.google.com/github/PedroHGMS/rna_trabalho_final/blob/main/Datasets/load_datasets.ipynb\" target=\"_parent\"><img src=\"https://colab.research.google.com/assets/colab-badge.svg\" alt=\"Open In Colab\"/></a>"
      ]
    },
    {
      "cell_type": "code",
      "source": [
        "import numpy as np\n",
        "import matplotlib.pyplot as plt\n",
        "import matplotlib.cm as cm\n",
        "import csv\n",
        "import math\n",
        "import time\n",
        "import csv\n",
        "from tqdm.notebook import tqdm\n",
        "from scipy.stats import multivariate_normal\n",
        "import matplotlib.colors as colors\n",
        "from mpl_toolkits.axes_grid1 import make_axes_locatable"
      ],
      "metadata": {
        "id": "gBt9TeqwZt4a"
      },
      "execution_count": null,
      "outputs": []
    },
    {
      "cell_type": "code",
      "source": [
        "# Funções para carregar Dataset\n",
        "from keras.datasets import mnist\n",
        "def load_dataset_1(digito=2, digito_negativo=5, num_amostras=70000):\n",
        "  # Carregando dataset\n",
        "  (X_train, Y_train), (X_val, Y_val) = mnist.load_data()\n",
        "\n",
        "  X_train = (X_train)/255\n",
        "  Y_train = Y_train\n",
        "  X_val = (X_val)/255\n",
        "  Y_val = Y_val\n",
        "\n",
        "  # Juntando test e train sets, e aleatorizando a ordem\n",
        "  Y_raw = np.concatenate((Y_train, Y_val), axis=0).reshape(-1,1)\n",
        "  X_raw = np.concatenate((X_train, X_val), axis=0).reshape(-1,28*28)\n",
        "  permutations = np.random.permutation(Y_raw.shape[0])\n",
        "  Y_raw = Y_raw[permutations]\n",
        "  X_raw = X_raw[permutations]\n",
        "\n",
        "  # Definindo valores de Y para 1 para classe digito, -1 caso contrário\n",
        "  # Y = np.zeros(Y_raw.shape)-1\n",
        "  \n",
        "  idx_digito = ((Y_raw==digito)*1).reshape(-1)\n",
        "  idx_digito_negativo = ((Y_raw==digito_negativo)*1).reshape(-1)\n",
        "\n",
        "  X = np.concatenate(((X_raw[idx_digito==1])[0:int(num_amostras/2)], (X_raw[idx_digito_negativo==1])[0:int(num_amostras/2)]), axis=0)\n",
        "  Y = np.concatenate(((Y_raw[idx_digito==1])[0:int(num_amostras/2)], (Y_raw[idx_digito_negativo==1])[0:int(num_amostras/2)]), axis=0)\n",
        "\n",
        "  buffer = np.copy(Y).astype(float)\n",
        "  buffer[Y==digito] = 1\n",
        "  buffer[Y==digito_negativo] = -1\n",
        "  Y = buffer\n",
        "\n",
        "  # Colocando no dicionário 'dataset'\n",
        "  dataset = {}\n",
        "\n",
        "  dataset['X'] = X.astype(float)\n",
        "  dataset['Y'] = Y.astype(float)\n",
        "  dataset['task'] = 'classification'\n",
        "  dataset['name'] = 'MNIST'\n",
        "\n",
        "  return dataset\n",
        "\n",
        "# dataset = load_dataset_1(digito=2, digito_negativo=5)\n",
        "# print('Dataset: ')\n",
        "# for k in dataset.keys():\n",
        "#   if type(dataset[k]) == np.ndarray:\n",
        "#     print(f\"{k}.shape: {dataset[k].shape}\")\n",
        "#   elif type(dataset[k])==int:\n",
        "#     print(f\"{k}: {dataset[k]:.3E}\")\n",
        "#   else:\n",
        "#     print(f\"{k}: {dataset[k]}\")"
      ],
      "metadata": {
        "colab": {
          "base_uri": "https://localhost:8080/"
        },
        "id": "boZF4jAMEdHt",
        "outputId": "c6f8c223-6991-483e-fafc-b1e1a02941df"
      },
      "execution_count": null,
      "outputs": [
        {
          "output_type": "stream",
          "name": "stdout",
          "text": [
            "Downloading data from https://storage.googleapis.com/tensorflow/tf-keras-datasets/mnist.npz\n",
            "11493376/11490434 [==============================] - 0s 0us/step\n",
            "11501568/11490434 [==============================] - 0s 0us/step\n",
            "Dataset: \n",
            "X.shape: (13303, 784)\n",
            "Y.shape: (13303, 1)\n",
            "task: classification\n",
            "name: MNIST\n"
          ]
        }
      ]
    },
    {
      "cell_type": "code",
      "source": [
        "# Funções para carregar Dataset\n",
        "# Todas retornam X e Y, tratados e prontos para serem usados\n",
        "\n",
        "from yellowbrick.datasets import load_mushroom\n",
        "def load_dataset_2(num_amostras=8123):\n",
        "  X, Y = load_mushroom()\n",
        "  X, Y = np.array(X, dtype='str'), np.array(Y).reshape(-1,1)\n",
        "  num_classes = np.unique(Y).size\n",
        "  classes = np.unique(Y)\n",
        "\n",
        "  # Transformando X em números\n",
        "  # i significa cada feature de X\n",
        "  for i in range(X.shape[1]):\n",
        "    elements = np.unique(X[:, i])\n",
        "    # j representa cada valor possível único de X[:, i]\n",
        "    buffer = np.empty(X.shape[0])\n",
        "    for j in range(elements.shape[0]):\n",
        "      buffer[np.where(X[:,i] == elements[j])] = j\n",
        "    X[:, i] = buffer\n",
        "\n",
        "  # Transformando Y em números\n",
        "  buffer = np.zeros(Y.shape)-1\n",
        "  buffer[Y==classes[0]] = 1\n",
        "  Y = buffer\n",
        "\n",
        "  # Colocando no dicionário 'dataset'\n",
        "  dataset = {}\n",
        "\n",
        "  permutations = np.random.permutation(Y.shape[0])\n",
        "  # Y_train = Y[permutations[0:num_amostras]]\n",
        "  # X_train = X[permutations[0:num_amostras]]\n",
        "\n",
        "  # dataset['X_train'] = X_train.astype(float)\n",
        "  # dataset['Y_train'] = Y_train.astype(float)\n",
        "\n",
        "  dataset['X'] = X.astype(float)[permutations[0:num_amostras]]\n",
        "  dataset['Y'] = Y.astype(float)[permutations[0:num_amostras]]\n",
        "  dataset['task'] = 'classification'\n",
        "  dataset['name'] = 'Mushroom'\n",
        "\n",
        "  return dataset\n",
        "\n",
        "# dataset = load_dataset_2()\n",
        "# print('Dataset: ')\n",
        "# for k in dataset.keys():\n",
        "#   if type(dataset[k]) == np.ndarray:\n",
        "#     print(f\"{k}.shape: {dataset[k].shape}\")\n",
        "#   elif type(dataset[k])==int:\n",
        "#     print(f\"{k}: {dataset[k]:.3E}\")\n",
        "#   else:\n",
        "#     print(f\"{k}: {dataset[k]}\")"
      ],
      "metadata": {
        "colab": {
          "base_uri": "https://localhost:8080/"
        },
        "id": "UeaSOp8VGIwp",
        "outputId": "84501d61-e141-4f9b-93ed-51c09746dfd6"
      },
      "execution_count": null,
      "outputs": [
        {
          "output_type": "stream",
          "name": "stdout",
          "text": [
            "Dataset: \n",
            "X.shape: (8123, 3)\n",
            "Y.shape: (8123, 1)\n",
            "task: classification\n",
            "name: Mushroom\n"
          ]
        }
      ]
    },
    {
      "cell_type": "code",
      "source": [
        "# Funções para carregar Dataset\n",
        "# Todas retornam X e Y, tratados e prontos para serem usados\n",
        "\n",
        "def load_dataset_3(num_amostras=690):\n",
        "  file = open('drive/MyDrive/rna/trabalho_inter/australian.dat')\n",
        "  csvreader = csv.reader(file)\n",
        "  rows = []\n",
        "  for row in csvreader:\n",
        "      if(len(row)==1):\n",
        "          row = row[0].split(' ')\n",
        "      if(not np.any(np.array(row)=='?')):\n",
        "          rows.append(row)\n",
        "  XY = np.array(rows).astype(float)\n",
        "  X = XY[:,0:-1]\n",
        "  Y = XY[:,-1].reshape(-1,1)\n",
        "  Y[Y==0] = -1\n",
        "\n",
        "  # Colocando no dicionário 'dataset'\n",
        "  dataset = {}\n",
        "\n",
        "  permutations = np.random.permutation(Y.shape[0])\n",
        "\n",
        "  dataset['X'] = X.astype(float)[permutations[0:num_amostras]]\n",
        "  dataset['Y'] = Y.astype(float)[permutations[0:num_amostras]]\n",
        "  dataset['task'] = 'classification'\n",
        "  dataset['name'] = 'Credit Approval'\n",
        "\n",
        "  return dataset\n",
        "\n",
        "# dataset = load_dataset_3()\n",
        "# print('Dataset: ')\n",
        "# for k in dataset.keys():\n",
        "#   if type(dataset[k]) == np.ndarray:\n",
        "#     print(f\"{k}.shape: {dataset[k].shape}\")\n",
        "#   elif type(dataset[k])==int:\n",
        "#     print(f\"{k}: {dataset[k]:.3E}\")\n",
        "#   else:\n",
        "#     print(f\"{k}: {dataset[k]}\")"
      ],
      "metadata": {
        "colab": {
          "base_uri": "https://localhost:8080/"
        },
        "id": "4R_tSWgyeriU",
        "outputId": "a69d3169-cdcf-4bab-e858-f281bc225174"
      },
      "execution_count": null,
      "outputs": [
        {
          "output_type": "stream",
          "name": "stdout",
          "text": [
            "Dataset: \n",
            "X.shape: (690, 14)\n",
            "Y.shape: (690, 1)\n",
            "task: classification\n",
            "name: Credit Approval\n"
          ]
        }
      ]
    },
    {
      "cell_type": "code",
      "source": [
        "# Funções para carregar Dataset\n",
        "# Todas retornam X e Y, tratados e prontos para serem usados\n",
        "\n",
        "def load_dataset_4(num_amostras=1599):\n",
        "  file = open('drive/MyDrive/rna/trabalho_inter/winequality-red.csv')\n",
        "  csvreader = csv.reader(file, delimiter=';')\n",
        "  rows = []\n",
        "  for row in csvreader:\n",
        "      if(len(row)==1):\n",
        "          row = row[0].split(' ')\n",
        "      if(not np.any(np.array(row)=='?')):\n",
        "          rows.append(row)\n",
        "  XY = np.array(rows[1:]).astype(float)\n",
        "  X = XY[:,0:-1]\n",
        "  Y = XY[:,-1].reshape(-1,1)\n",
        "\n",
        "  # Colocando no dicionário 'dataset'\n",
        "  dataset = {}\n",
        "\n",
        "  permutations = np.random.permutation(Y.shape[0])\n",
        "\n",
        "  dataset['X'] = X.astype(float)[permutations[0:num_amostras]]\n",
        "  dataset['Y'] = Y.astype(float)[permutations[0:num_amostras]]\n",
        "  dataset['task'] = 'regression'\n",
        "  dataset['name'] = 'Wine Quality'\n",
        "\n",
        "  return dataset\n",
        "\n",
        "# dataset = load_dataset_4()\n",
        "# print('Dataset: ')\n",
        "# for k in dataset.keys():\n",
        "#   if type(dataset[k]) == np.ndarray:\n",
        "#     print(f\"{k}.shape: {dataset[k].shape}\")\n",
        "#   elif type(dataset[k])==int:\n",
        "#     print(f\"{k}: {dataset[k]:.3E}\")\n",
        "#   else:\n",
        "#     print(f\"{k}: {dataset[k]}\")"
      ],
      "metadata": {
        "colab": {
          "base_uri": "https://localhost:8080/"
        },
        "id": "VWwSWyOpyT5L",
        "outputId": "2de3f934-5498-45a9-a126-78c7c3afff89"
      },
      "execution_count": null,
      "outputs": [
        {
          "output_type": "stream",
          "name": "stdout",
          "text": [
            "Dataset: \n",
            "X.shape: (1599, 11)\n",
            "Y.shape: (1599, 1)\n",
            "task: regression\n",
            "name: Wine Quality\n"
          ]
        }
      ]
    },
    {
      "cell_type": "code",
      "source": [
        "# Funções para carregar Dataset\n",
        "# Todas retornam X e Y, tratados e prontos para serem usados\n",
        "\n",
        "def load_dataset_5(num_amostras=414):\n",
        "  file = open('drive/MyDrive/rna/trabalho_inter/Real_estate.csv')\n",
        "  csvreader = csv.reader(file, delimiter=';')\n",
        "  rows = []\n",
        "  for row in csvreader:\n",
        "    rows.append([text.replace(',','.') for text in row])\n",
        "\n",
        "  XY = np.array(rows[1:]).astype(float)\n",
        "  X = XY[:,0:-1]\n",
        "  Y = XY[:,-1].reshape(-1,1)\n",
        "\n",
        "  # Colocando no dicionário 'dataset'\n",
        "  dataset = {}\n",
        "\n",
        "  # permutations = np.random.permutation(Y.shape[0])\n",
        "\n",
        "  dataset['X'] = X.astype(float)#[permutations[0:num_amostras]]\n",
        "  dataset['Y'] = Y.astype(float)#[permutations[0:num_amostras]]\n",
        "  dataset['task'] = 'regression'\n",
        "  dataset['name'] = 'Real Estate'\n",
        "\n",
        "  return dataset\n",
        "\n",
        "# dataset = load_dataset_5()\n",
        "# print('Dataset: ')\n",
        "# for k in dataset.keys():\n",
        "#   if type(dataset[k]) == np.ndarray:\n",
        "#     print(f\"{k}.shape: {dataset[k].shape}\")\n",
        "#   elif type(dataset[k])==int:\n",
        "#     print(f\"{k}: {dataset[k]:.3E}\")\n",
        "#   else:\n",
        "#     print(f\"{k}: {dataset[k]}\")"
      ],
      "metadata": {
        "colab": {
          "base_uri": "https://localhost:8080/"
        },
        "id": "OmduKbvk-4F9",
        "outputId": "d8d36fba-aa69-49d8-8219-d0d2401e0f18"
      },
      "execution_count": null,
      "outputs": [
        {
          "output_type": "stream",
          "name": "stdout",
          "text": [
            "Dataset: \n",
            "X.shape: (414, 7)\n",
            "Y.shape: (414, 1)\n",
            "task: regression\n",
            "name: Real Estate\n"
          ]
        }
      ]
    }
  ],
  "metadata": {
    "interpreter": {
      "hash": "bd6a6b1b649ed1dd276d0ad113b7a6cbd201e2c8b33ed7040dce60b308725015"
    },
    "kernelspec": {
      "display_name": "Python 3.9.12 ('base')",
      "language": "python",
      "name": "python3"
    },
    "language_info": {
      "codemirror_mode": {
        "name": "ipython",
        "version": 3
      },
      "file_extension": ".py",
      "mimetype": "text/x-python",
      "name": "python",
      "nbconvert_exporter": "python",
      "pygments_lexer": "ipython3",
      "version": "3.9.12"
    },
    "orig_nbformat": 4,
    "colab": {
      "name": "load_datasets.ipynb",
      "provenance": [],
      "collapsed_sections": [],
      "include_colab_link": true
    }
  },
  "nbformat": 4,
  "nbformat_minor": 0
}
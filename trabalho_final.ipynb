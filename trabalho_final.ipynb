{
  "cells": [
    {
      "cell_type": "markdown",
      "metadata": {
        "id": "view-in-github",
        "colab_type": "text"
      },
      "source": [
        "<a href=\"https://colab.research.google.com/github/PedroHGMS/rna_trabalho_final/blob/main/trabalho_final.ipynb\" target=\"_parent\"><img src=\"https://colab.research.google.com/assets/colab-badge.svg\" alt=\"Open In Colab\"/></a>"
      ]
    },
    {
      "cell_type": "code",
      "execution_count": null,
      "metadata": {
        "id": "ydlF9MVeQDwd"
      },
      "outputs": [],
      "source": [
        "import numpy as np\n",
        "import matplotlib.pyplot as plt\n",
        "import matplotlib.cm as cm\n",
        "import csv\n",
        "import math\n",
        "import time\n",
        "import csv\n",
        "from tqdm.notebook import tqdm\n",
        "from scipy.stats import multivariate_normal\n",
        "import matplotlib.colors as colors\n",
        "from mpl_toolkits.axes_grid1 import make_axes_locatable\n",
        "from IPython.display import clear_output"
      ]
    },
    {
      "cell_type": "code",
      "source": [
        "import tensorflow as tf\n",
        "from tensorflow import keras"
      ],
      "metadata": {
        "id": "p-hZ-RFOcOB6"
      },
      "execution_count": null,
      "outputs": []
    },
    {
      "cell_type": "code",
      "source": [
        "N = 100\n",
        "X = np.linspace(-5,5,N).reshape(-1,1)\n",
        "Y = np.sin(X).reshape(-1, 1) + np.random.normal(scale=0.2, size=100).reshape(-1,1)\n",
        "\n",
        "plt.plot(X,np.sin(X))\n",
        "plt.scatter(X,Y)\n",
        "X.shape, Y.shape"
      ],
      "metadata": {
        "id": "qTty_DkACX8U",
        "colab": {
          "base_uri": "https://localhost:8080/",
          "height": 285
        },
        "outputId": "30bb45fd-6ff6-4294-f2da-8d5a527d6227"
      },
      "execution_count": null,
      "outputs": [
        {
          "output_type": "execute_result",
          "data": {
            "text/plain": [
              "((100, 1), (100, 1))"
            ]
          },
          "metadata": {},
          "execution_count": 16
        },
        {
          "output_type": "display_data",
          "data": {
            "text/plain": [
              "<Figure size 432x288 with 1 Axes>"
            ],
            "image/png": "[encoded data removed]"
          },
          "metadata": {
            "needs_background": "light"
          }
        }
      ]
    },
    {
      "cell_type": "code",
      "source": [
        "permutations = np.random.permutation(X.shape[0])\n",
        "\n",
        "slice_size = 20\n",
        "X_slice = X[permutations[0:slice_size]]\n",
        "Y_slice = Y[permutations[0:slice_size]]\n",
        "\n",
        "plt.plot(X,np.sin(X))\n",
        "plt.scatter(X_slice,Y_slice)\n",
        "X_slice.shape, Y_slice.shape"
      ],
      "metadata": {
        "colab": {
          "base_uri": "https://localhost:8080/",
          "height": 282
        },
        "id": "A7uuIpQXopwd",
        "outputId": "1d5ad0ea-31d5-477d-ece4-7b8ce99c8b18"
      },
      "execution_count": null,
      "outputs": [
        {
          "output_type": "execute_result",
          "data": {
            "text/plain": [
              "((20, 1), (20, 1))"
            ]
          },
          "metadata": {},
          "execution_count": 17
        },
        {
          "output_type": "display_data",
          "data": {
            "text/plain": [
              "<Figure size 432x288 with 1 Axes>"
            ],
            "image/png": "[encoded data removed]"
          },
          "metadata": {
            "needs_background": "light"
          }
        }
      ]
    },
    {
      "cell_type": "code",
      "source": [
        "# Treina vários modelos\n",
        "num_it = 200\n",
        "num_modelos = 10\n",
        "models = []\n",
        "histories = []\n",
        "\n",
        "for _ in tqdm(range(num_modelos)):\n",
        "  model = keras.Sequential([\n",
        "      keras.layers.Input(shape=(1)),\n",
        "      keras.layers.Dense(30, activation='tanh'),\n",
        "      keras.layers.Dense(1, activation='linear')\n",
        "  ])\n",
        "\n",
        "  model.compile(optimizer='sgd',\n",
        "                loss='mse',\n",
        "                metrics=['mse'])\n",
        "\n",
        "  history = model.fit(X, Y, epochs=int(num_it), validation_split=0.33, verbose=0)\n",
        "\n",
        "  models.append(model)\n",
        "  histories.append(history)\n",
        "\n",
        "# y_hat = model.predict(X)\n",
        "# plt.plot(X,y_hat)\n",
        "# plt.scatter(X,Y)"
      ],
      "metadata": {
        "colab": {
          "base_uri": "https://localhost:8080/",
          "height": 49,
          "referenced_widgets": [
            "761cc7f67cdd4d19910183bcace30f6f",
            "f110ef661fc04d3b996c6de87ef1d571",
            "2f0314fd6a5d427d939c7aa05d676fbb",
            "1f6d37feb2034ffaacbf5a8603ea1133",
            "bd9feb7799c74b3f899411fdb1f1212c",
            "e170a1a117d14c489aa35c3601cfa9da",
            "4d4ae908584a4d12bb4a62d5fa8177e4",
            "8ff6b25a3e664fd38691aa9c8db6db84",
            "f5a9dc6a9b484cb59d47ddf82755de7b",
            "24514316319e47689b4618aea57c1248",
            "9d798d3a09044265af36d39d412acd31"
          ]
        },
        "id": "da-Y3aEAFtXM",
        "outputId": "894e574b-aa08-480c-9974-029b9fe5a303"
      },
      "execution_count": null,
      "outputs": [
        {
          "output_type": "display_data",
          "data": {
            "text/plain": [
              "  0%|          | 0/10 [00:00<?, ?it/s]"
            ],
            "application/vnd.jupyter.widget-view+json": {
              "version_major": 2,
              "version_minor": 0,
              "model_id": "761cc7f67cdd4d19910183bcace30f6f"
            }
          },
          "metadata": {}
        }
      ]
    },
    {
      "cell_type": "code",
      "source": [
        "# Avalia os modelos\n",
        "y_hat = np.zeros((num_modelos, *(Y.shape)))\n",
        "for i in tqdm(range(num_modelos)):\n",
        "  y_hat[i] = models[i].predict(X)"
      ],
      "metadata": {
        "colab": {
          "base_uri": "https://localhost:8080/",
          "height": 66,
          "referenced_widgets": [
            "9247b65375a24b99a3771d64f7aec538",
            "a57e0e6e0dd7434098369e84eda83cfe",
            "c6610ce6b7ae4e43af59a315240b49a5",
            "fbca39428e624db9be650bf89e704217",
            "393a415c81b048319fd68c09b4f13f3b",
            "7c5fd823beaf43239fc7407f229ca306",
            "d3cbdf18ce76487dad6ca31ab524b97e",
            "a6637ddb95674a9f93346aa17f435a13",
            "f31ac684ec4344b1960de64b059a0432",
            "21e58a71fa4e4e67a4b9d69114a39870",
            "cc4df9daab4c4000bea3e447c1739aff"
          ]
        },
        "id": "-bqGbxG4rdxv",
        "outputId": "c0ec0a4a-95ec-4add-8647-56d97255f107"
      },
      "execution_count": null,
      "outputs": [
        {
          "output_type": "display_data",
          "data": {
            "text/plain": [
              "  0%|          | 0/10 [00:00<?, ?it/s]"
            ],
            "application/vnd.jupyter.widget-view+json": {
              "version_major": 2,
              "version_minor": 0,
              "model_id": "9247b65375a24b99a3771d64f7aec538"
            }
          },
          "metadata": {}
        },
        {
          "output_type": "execute_result",
          "data": {
            "text/plain": [
              "(10, 100, 1)"
            ]
          },
          "metadata": {},
          "execution_count": 28
        }
      ]
    },
    {
      "cell_type": "code",
      "source": [
        "# Plota resultados médios\n",
        "y_hat_mean = y_hat.mean(axis=(0,2))\n",
        "plt.plot(X,y_hat_mean)\n",
        "plt.scatter(X,Y)\n",
        "\n",
        "# plotar todos modelos em um grid\n",
        "for i in tqdm(range(num_modelos)):\n",
        "  plt.plot(X,y_hat[i])\n",
        "  plt.scatter(X,Y)\n",
        "  plt.show()"
      ],
      "metadata": {
        "colab": {
          "base_uri": "https://localhost:8080/",
          "height": 317,
          "referenced_widgets": [
            "ed78c7d2437f48e19538df5278ce82bf",
            "c67ad58c0c404965bb6d5dc7d9cc0e7c",
            "f1c4f3a3687149138640636a627a6b26",
            "704b5fcd4a674a8893e8807c8cfffd36",
            "f50171bbeb4d46578293847515ba7a94",
            "4572c3959c434e68bdbec66636cb6049",
            "f46ce49a9d5e4beda14d590d24c52bda",
            "d4a345b592bd467e9e3760464fc50d90",
            "af400a5e7c8749b3b8b0ea52e6653f93",
            "ce5b190eec44444a8e5a058a6a316914",
            "13434f65ed7640b891c73560795e40a5"
          ]
        },
        "id": "KQreHoxmsKo4",
        "outputId": "582391ad-ecab-4605-f827-b50302c3f2d9"
      },
      "execution_count": null,
      "outputs": [
        {
          "output_type": "display_data",
          "data": {
            "text/plain": [
              "  0%|          | 0/10 [00:00<?, ?it/s]"
            ],
            "application/vnd.jupyter.widget-view+json": {
              "version_major": 2,
              "version_minor": 0,
              "model_id": "ed78c7d2437f48e19538df5278ce82bf"
            }
          },
          "metadata": {}
        },
        {
          "output_type": "execute_result",
          "data": {
            "text/plain": [
              "<matplotlib.collections.PathCollection at 0x7f287e871ed0>"
            ]
          },
          "metadata": {},
          "execution_count": 36
        },
        {
          "output_type": "display_data",
          "data": {
            "text/plain": [
              "<Figure size 432x288 with 1 Axes>"
            ],
            "image/png": "[encoded data removed]"
          },
          "metadata": {
            "needs_background": "light"
          }
        }
      ]
    },
    {
      "cell_type": "code",
      "source": [
        "num_it = 100\n",
        "history = model.fit(X, Y, epochs=int(num_it), validation_split=0.33)\n",
        "\n",
        "y_hat = model.predict(X)\n",
        "plt.plot(X,y_hat)\n",
        "plt.scatter(X,Y)\n",
        "# plt.plot(X,np.sin(X))"
      ],
      "metadata": {
        "colab": {
          "base_uri": "https://localhost:8080/",
          "height": 1000
        },
        "id": "TJFY0scogmyo",
        "outputId": "74fc8955-8bac-44f0-9bbc-4192e12a8c32"
      },
      "execution_count": null,
      "outputs": [
        {
          "output_type": "stream",
          "name": "stdout",
          "text": [
            "Epoch 1/100\n",
            "3/3 [==============================] - 0s 65ms/step - loss: 0.4560 - mse: 0.4560 - val_loss: 0.6473 - val_mse: 0.6473\n",
            "Epoch 2/100\n",
            "3/3 [==============================] - 0s 13ms/step - loss: 0.4514 - mse: 0.4514 - val_loss: 0.6548 - val_mse: 0.6548\n",
            "Epoch 3/100\n",
            "3/3 [==============================] - 0s 15ms/step - loss: 0.4535 - mse: 0.4535 - val_loss: 0.6586 - val_mse: 0.6586\n",
            "Epoch 4/100\n",
            "3/3 [==============================] - 0s 22ms/step - loss: 0.4539 - mse: 0.4539 - val_loss: 0.6524 - val_mse: 0.6524\n",
            "Epoch 5/100\n",
            "3/3 [==============================] - 0s 14ms/step - loss: 0.4521 - mse: 0.4521 - val_loss: 0.6468 - val_mse: 0.6468\n",
            "Epoch 6/100\n",
            "3/3 [==============================] - 0s 19ms/step - loss: 0.4486 - mse: 0.4486 - val_loss: 0.6461 - val_mse: 0.6461\n",
            "Epoch 7/100\n",
            "3/3 [==============================] - 0s 12ms/step - loss: 0.4466 - mse: 0.4466 - val_loss: 0.6412 - val_mse: 0.6412\n",
            "Epoch 8/100\n",
            "3/3 [==============================] - 0s 13ms/step - loss: 0.4458 - mse: 0.4458 - val_loss: 0.6374 - val_mse: 0.6374\n",
            "Epoch 9/100\n",
            "3/3 [==============================] - 0s 15ms/step - loss: 0.4434 - mse: 0.4434 - val_loss: 0.6391 - val_mse: 0.6391\n",
            "Epoch 10/100\n",
            "3/3 [==============================] - 0s 12ms/step - loss: 0.4412 - mse: 0.4412 - val_loss: 0.6443 - val_mse: 0.6443\n",
            "Epoch 11/100\n",
            "3/3 [==============================] - 0s 13ms/step - loss: 0.4414 - mse: 0.4414 - val_loss: 0.6509 - val_mse: 0.6509\n",
            "Epoch 12/100\n",
            "3/3 [==============================] - 0s 18ms/step - loss: 0.4402 - mse: 0.4402 - val_loss: 0.6577 - val_mse: 0.6577\n",
            "Epoch 13/100\n",
            "3/3 [==============================] - 0s 14ms/step - loss: 0.4409 - mse: 0.4409 - val_loss: 0.6646 - val_mse: 0.6646\n",
            "Epoch 14/100\n",
            "3/3 [==============================] - 0s 14ms/step - loss: 0.4394 - mse: 0.4394 - val_loss: 0.6652 - val_mse: 0.6652\n",
            "Epoch 15/100\n",
            "3/3 [==============================] - 0s 12ms/step - loss: 0.4381 - mse: 0.4381 - val_loss: 0.6627 - val_mse: 0.6627\n",
            "Epoch 16/100\n",
            "3/3 [==============================] - 0s 13ms/step - loss: 0.4349 - mse: 0.4349 - val_loss: 0.6595 - val_mse: 0.6595\n",
            "Epoch 17/100\n",
            "3/3 [==============================] - 0s 16ms/step - loss: 0.4334 - mse: 0.4334 - val_loss: 0.6534 - val_mse: 0.6534\n",
            "Epoch 18/100\n",
            "3/3 [==============================] - 0s 15ms/step - loss: 0.4323 - mse: 0.4323 - val_loss: 0.6501 - val_mse: 0.6501\n",
            "Epoch 19/100\n",
            "3/3 [==============================] - 0s 14ms/step - loss: 0.4316 - mse: 0.4316 - val_loss: 0.6518 - val_mse: 0.6518\n",
            "Epoch 20/100\n",
            "3/3 [==============================] - 0s 14ms/step - loss: 0.4307 - mse: 0.4307 - val_loss: 0.6595 - val_mse: 0.6595\n",
            "Epoch 21/100\n",
            "3/3 [==============================] - 0s 13ms/step - loss: 0.4300 - mse: 0.4300 - val_loss: 0.6669 - val_mse: 0.6669\n",
            "Epoch 22/100\n",
            "3/3 [==============================] - 0s 16ms/step - loss: 0.4319 - mse: 0.4319 - val_loss: 0.6764 - val_mse: 0.6764\n",
            "Epoch 23/100\n",
            "3/3 [==============================] - 0s 14ms/step - loss: 0.4323 - mse: 0.4323 - val_loss: 0.6811 - val_mse: 0.6811\n",
            "Epoch 24/100\n",
            "3/3 [==============================] - 0s 15ms/step - loss: 0.4322 - mse: 0.4322 - val_loss: 0.6837 - val_mse: 0.6837\n",
            "Epoch 25/100\n",
            "3/3 [==============================] - 0s 14ms/step - loss: 0.4320 - mse: 0.4320 - val_loss: 0.6846 - val_mse: 0.6846\n",
            "Epoch 26/100\n",
            "3/3 [==============================] - 0s 18ms/step - loss: 0.4314 - mse: 0.4314 - val_loss: 0.6849 - val_mse: 0.6849\n",
            "Epoch 27/100\n",
            "3/3 [==============================] - 0s 15ms/step - loss: 0.4311 - mse: 0.4311 - val_loss: 0.6836 - val_mse: 0.6836\n",
            "Epoch 28/100\n",
            "3/3 [==============================] - 0s 16ms/step - loss: 0.4303 - mse: 0.4303 - val_loss: 0.6786 - val_mse: 0.6786\n",
            "Epoch 29/100\n",
            "3/3 [==============================] - 0s 13ms/step - loss: 0.4284 - mse: 0.4284 - val_loss: 0.6770 - val_mse: 0.6770\n",
            "Epoch 30/100\n",
            "3/3 [==============================] - 0s 17ms/step - loss: 0.4268 - mse: 0.4268 - val_loss: 0.6751 - val_mse: 0.6751\n",
            "Epoch 31/100\n",
            "3/3 [==============================] - 0s 15ms/step - loss: 0.4249 - mse: 0.4249 - val_loss: 0.6688 - val_mse: 0.6688\n",
            "Epoch 32/100\n",
            "3/3 [==============================] - 0s 13ms/step - loss: 0.4219 - mse: 0.4219 - val_loss: 0.6636 - val_mse: 0.6636\n",
            "Epoch 33/100\n",
            "3/3 [==============================] - 0s 20ms/step - loss: 0.4203 - mse: 0.4203 - val_loss: 0.6625 - val_mse: 0.6625\n",
            "Epoch 34/100\n",
            "3/3 [==============================] - 0s 24ms/step - loss: 0.4193 - mse: 0.4193 - val_loss: 0.6642 - val_mse: 0.6642\n",
            "Epoch 35/100\n",
            "3/3 [==============================] - 0s 23ms/step - loss: 0.4184 - mse: 0.4184 - val_loss: 0.6696 - val_mse: 0.6696\n",
            "Epoch 36/100\n",
            "3/3 [==============================] - 0s 25ms/step - loss: 0.4180 - mse: 0.4180 - val_loss: 0.6757 - val_mse: 0.6757\n",
            "Epoch 37/100\n",
            "3/3 [==============================] - 0s 31ms/step - loss: 0.4176 - mse: 0.4176 - val_loss: 0.6828 - val_mse: 0.6828\n",
            "Epoch 38/100\n",
            "3/3 [==============================] - 0s 20ms/step - loss: 0.4184 - mse: 0.4184 - val_loss: 0.6850 - val_mse: 0.6850\n",
            "Epoch 39/100\n",
            "3/3 [==============================] - 0s 40ms/step - loss: 0.4172 - mse: 0.4172 - val_loss: 0.6762 - val_mse: 0.6762\n",
            "Epoch 40/100\n",
            "3/3 [==============================] - 0s 33ms/step - loss: 0.4158 - mse: 0.4158 - val_loss: 0.6623 - val_mse: 0.6623\n",
            "Epoch 41/100\n",
            "3/3 [==============================] - 0s 20ms/step - loss: 0.4161 - mse: 0.4161 - val_loss: 0.6501 - val_mse: 0.6501\n",
            "Epoch 42/100\n",
            "3/3 [==============================] - 0s 13ms/step - loss: 0.4135 - mse: 0.4135 - val_loss: 0.6449 - val_mse: 0.6449\n",
            "Epoch 43/100\n",
            "3/3 [==============================] - 0s 15ms/step - loss: 0.4147 - mse: 0.4147 - val_loss: 0.6415 - val_mse: 0.6415\n",
            "Epoch 44/100\n",
            "3/3 [==============================] - 0s 13ms/step - loss: 0.4152 - mse: 0.4152 - val_loss: 0.6410 - val_mse: 0.6410\n",
            "Epoch 45/100\n",
            "3/3 [==============================] - 0s 17ms/step - loss: 0.4133 - mse: 0.4133 - val_loss: 0.6430 - val_mse: 0.6430\n",
            "Epoch 46/100\n",
            "3/3 [==============================] - 0s 17ms/step - loss: 0.4109 - mse: 0.4109 - val_loss: 0.6494 - val_mse: 0.6494\n",
            "Epoch 47/100\n",
            "3/3 [==============================] - 0s 14ms/step - loss: 0.4108 - mse: 0.4108 - val_loss: 0.6567 - val_mse: 0.6567\n",
            "Epoch 48/100\n",
            "3/3 [==============================] - 0s 15ms/step - loss: 0.4092 - mse: 0.4092 - val_loss: 0.6625 - val_mse: 0.6625\n",
            "Epoch 49/100\n",
            "3/3 [==============================] - 0s 15ms/step - loss: 0.4108 - mse: 0.4108 - val_loss: 0.6705 - val_mse: 0.6705\n",
            "Epoch 50/100\n",
            "3/3 [==============================] - 0s 19ms/step - loss: 0.4124 - mse: 0.4124 - val_loss: 0.6764 - val_mse: 0.6764\n",
            "Epoch 51/100\n",
            "3/3 [==============================] - 0s 24ms/step - loss: 0.4125 - mse: 0.4125 - val_loss: 0.6754 - val_mse: 0.6754\n",
            "Epoch 52/100\n",
            "3/3 [==============================] - 0s 14ms/step - loss: 0.4123 - mse: 0.4123 - val_loss: 0.6723 - val_mse: 0.6723\n",
            "Epoch 53/100\n",
            "3/3 [==============================] - 0s 14ms/step - loss: 0.4112 - mse: 0.4112 - val_loss: 0.6616 - val_mse: 0.6616\n",
            "Epoch 54/100\n",
            "3/3 [==============================] - 0s 16ms/step - loss: 0.4090 - mse: 0.4090 - val_loss: 0.6468 - val_mse: 0.6468\n",
            "Epoch 55/100\n",
            "3/3 [==============================] - 0s 15ms/step - loss: 0.4061 - mse: 0.4061 - val_loss: 0.6401 - val_mse: 0.6401\n",
            "Epoch 56/100\n",
            "3/3 [==============================] - 0s 22ms/step - loss: 0.4048 - mse: 0.4048 - val_loss: 0.6390 - val_mse: 0.6390\n",
            "Epoch 57/100\n",
            "3/3 [==============================] - 0s 14ms/step - loss: 0.4042 - mse: 0.4042 - val_loss: 0.6408 - val_mse: 0.6408\n",
            "Epoch 58/100\n",
            "3/3 [==============================] - 0s 14ms/step - loss: 0.4029 - mse: 0.4029 - val_loss: 0.6464 - val_mse: 0.6464\n",
            "Epoch 59/100\n",
            "3/3 [==============================] - 0s 15ms/step - loss: 0.4034 - mse: 0.4034 - val_loss: 0.6536 - val_mse: 0.6536\n",
            "Epoch 60/100\n",
            "3/3 [==============================] - 0s 15ms/step - loss: 0.4043 - mse: 0.4043 - val_loss: 0.6579 - val_mse: 0.6579\n",
            "Epoch 61/100\n",
            "3/3 [==============================] - 0s 17ms/step - loss: 0.4032 - mse: 0.4032 - val_loss: 0.6578 - val_mse: 0.6578\n",
            "Epoch 62/100\n",
            "3/3 [==============================] - 0s 13ms/step - loss: 0.4022 - mse: 0.4022 - val_loss: 0.6556 - val_mse: 0.6556\n",
            "Epoch 63/100\n",
            "3/3 [==============================] - 0s 12ms/step - loss: 0.4001 - mse: 0.4001 - val_loss: 0.6456 - val_mse: 0.6456\n",
            "Epoch 64/100\n",
            "3/3 [==============================] - 0s 14ms/step - loss: 0.3970 - mse: 0.3970 - val_loss: 0.6327 - val_mse: 0.6327\n",
            "Epoch 65/100\n",
            "3/3 [==============================] - 0s 14ms/step - loss: 0.3998 - mse: 0.3998 - val_loss: 0.6246 - val_mse: 0.6246\n",
            "Epoch 66/100\n",
            "3/3 [==============================] - 0s 14ms/step - loss: 0.4005 - mse: 0.4005 - val_loss: 0.6210 - val_mse: 0.6210\n",
            "Epoch 67/100\n",
            "3/3 [==============================] - 0s 15ms/step - loss: 0.4035 - mse: 0.4035 - val_loss: 0.6188 - val_mse: 0.6188\n",
            "Epoch 68/100\n",
            "3/3 [==============================] - 0s 14ms/step - loss: 0.4045 - mse: 0.4045 - val_loss: 0.6188 - val_mse: 0.6188\n",
            "Epoch 69/100\n",
            "3/3 [==============================] - 0s 14ms/step - loss: 0.4047 - mse: 0.4047 - val_loss: 0.6194 - val_mse: 0.6194\n",
            "Epoch 70/100\n",
            "3/3 [==============================] - 0s 14ms/step - loss: 0.4028 - mse: 0.4028 - val_loss: 0.6196 - val_mse: 0.6196\n",
            "Epoch 71/100\n",
            "3/3 [==============================] - 0s 14ms/step - loss: 0.4007 - mse: 0.4007 - val_loss: 0.6207 - val_mse: 0.6207\n",
            "Epoch 72/100\n",
            "3/3 [==============================] - 0s 13ms/step - loss: 0.3985 - mse: 0.3985 - val_loss: 0.6245 - val_mse: 0.6245\n",
            "Epoch 73/100\n",
            "3/3 [==============================] - 0s 15ms/step - loss: 0.3939 - mse: 0.3939 - val_loss: 0.6284 - val_mse: 0.6284\n",
            "Epoch 74/100\n",
            "3/3 [==============================] - 0s 18ms/step - loss: 0.3922 - mse: 0.3922 - val_loss: 0.6342 - val_mse: 0.6342\n",
            "Epoch 75/100\n",
            "3/3 [==============================] - 0s 17ms/step - loss: 0.3920 - mse: 0.3920 - val_loss: 0.6456 - val_mse: 0.6456\n",
            "Epoch 76/100\n",
            "3/3 [==============================] - 0s 13ms/step - loss: 0.3923 - mse: 0.3923 - val_loss: 0.6564 - val_mse: 0.6564\n",
            "Epoch 77/100\n",
            "3/3 [==============================] - 0s 15ms/step - loss: 0.3935 - mse: 0.3935 - val_loss: 0.6537 - val_mse: 0.6537\n",
            "Epoch 78/100\n",
            "3/3 [==============================] - 0s 17ms/step - loss: 0.3909 - mse: 0.3909 - val_loss: 0.6431 - val_mse: 0.6431\n",
            "Epoch 79/100\n",
            "3/3 [==============================] - 0s 18ms/step - loss: 0.3896 - mse: 0.3896 - val_loss: 0.6328 - val_mse: 0.6328\n",
            "Epoch 80/100\n",
            "3/3 [==============================] - 0s 16ms/step - loss: 0.3888 - mse: 0.3888 - val_loss: 0.6247 - val_mse: 0.6247\n",
            "Epoch 81/100\n",
            "3/3 [==============================] - 0s 15ms/step - loss: 0.3887 - mse: 0.3887 - val_loss: 0.6201 - val_mse: 0.6201\n",
            "Epoch 82/100\n",
            "3/3 [==============================] - 0s 16ms/step - loss: 0.3876 - mse: 0.3876 - val_loss: 0.6186 - val_mse: 0.6186\n",
            "Epoch 83/100\n",
            "3/3 [==============================] - 0s 15ms/step - loss: 0.3868 - mse: 0.3868 - val_loss: 0.6160 - val_mse: 0.6160\n",
            "Epoch 84/100\n",
            "3/3 [==============================] - 0s 17ms/step - loss: 0.3884 - mse: 0.3884 - val_loss: 0.6149 - val_mse: 0.6149\n",
            "Epoch 85/100\n",
            "3/3 [==============================] - 0s 18ms/step - loss: 0.3861 - mse: 0.3861 - val_loss: 0.6180 - val_mse: 0.6180\n",
            "Epoch 86/100\n",
            "3/3 [==============================] - 0s 13ms/step - loss: 0.3845 - mse: 0.3845 - val_loss: 0.6208 - val_mse: 0.6208\n",
            "Epoch 87/100\n",
            "3/3 [==============================] - 0s 14ms/step - loss: 0.3827 - mse: 0.3827 - val_loss: 0.6242 - val_mse: 0.6242\n",
            "Epoch 88/100\n",
            "3/3 [==============================] - 0s 14ms/step - loss: 0.3813 - mse: 0.3813 - val_loss: 0.6311 - val_mse: 0.6311\n",
            "Epoch 89/100\n",
            "3/3 [==============================] - 0s 13ms/step - loss: 0.3806 - mse: 0.3806 - val_loss: 0.6347 - val_mse: 0.6347\n",
            "Epoch 90/100\n",
            "3/3 [==============================] - 0s 13ms/step - loss: 0.3806 - mse: 0.3806 - val_loss: 0.6413 - val_mse: 0.6413\n",
            "Epoch 91/100\n",
            "3/3 [==============================] - 0s 14ms/step - loss: 0.3832 - mse: 0.3832 - val_loss: 0.6495 - val_mse: 0.6495\n",
            "Epoch 92/100\n",
            "3/3 [==============================] - 0s 13ms/step - loss: 0.3822 - mse: 0.3822 - val_loss: 0.6559 - val_mse: 0.6559\n",
            "Epoch 93/100\n",
            "3/3 [==============================] - 0s 14ms/step - loss: 0.3843 - mse: 0.3843 - val_loss: 0.6627 - val_mse: 0.6627\n",
            "Epoch 94/100\n",
            "3/3 [==============================] - 0s 14ms/step - loss: 0.3845 - mse: 0.3845 - val_loss: 0.6583 - val_mse: 0.6583\n",
            "Epoch 95/100\n",
            "3/3 [==============================] - 0s 13ms/step - loss: 0.3821 - mse: 0.3821 - val_loss: 0.6447 - val_mse: 0.6447\n",
            "Epoch 96/100\n",
            "3/3 [==============================] - 0s 15ms/step - loss: 0.3791 - mse: 0.3791 - val_loss: 0.6328 - val_mse: 0.6328\n",
            "Epoch 97/100\n",
            "3/3 [==============================] - 0s 14ms/step - loss: 0.3761 - mse: 0.3761 - val_loss: 0.6257 - val_mse: 0.6257\n",
            "Epoch 98/100\n",
            "3/3 [==============================] - 0s 14ms/step - loss: 0.3767 - mse: 0.3767 - val_loss: 0.6189 - val_mse: 0.6189\n",
            "Epoch 99/100\n",
            "3/3 [==============================] - 0s 19ms/step - loss: 0.3747 - mse: 0.3747 - val_loss: 0.6175 - val_mse: 0.6175\n",
            "Epoch 100/100\n",
            "3/3 [==============================] - 0s 15ms/step - loss: 0.3738 - mse: 0.3738 - val_loss: 0.6157 - val_mse: 0.6157\n"
          ]
        },
        {
          "output_type": "execute_result",
          "data": {
            "text/plain": [
              "<matplotlib.collections.PathCollection at 0x7f2881fcf450>"
            ]
          },
          "metadata": {},
          "execution_count": 9
        },
        {
          "output_type": "display_data",
          "data": {
            "text/plain": [
              "<Figure size 432x288 with 1 Axes>"
            ],
            "image/png": "[encoded data removed]"
          },
          "metadata": {
            "needs_background": "light"
          }
        }
      ]
    },
    {
      "cell_type": "code",
      "source": [
        "plt.plot(np.array(history.history['loss']).reshape(-1,10).mean(axis=1).reshape(-1,1),label='train loss')\n",
        "plt.plot(np.array(history.history['val_loss']).reshape(-1,10).mean(axis=1).reshape(-1,1),label='val loss')\n",
        "plt.legend()"
      ],
      "metadata": {
        "colab": {
          "base_uri": "https://localhost:8080/",
          "height": 282
        },
        "id": "ailRj_T0lN_c",
        "outputId": "c2908ff1-634e-44a2-b4b8-e9ab78196fe4"
      },
      "execution_count": null,
      "outputs": [
        {
          "output_type": "execute_result",
          "data": {
            "text/plain": [
              "<matplotlib.legend.Legend at 0x7f288219df10>"
            ]
          },
          "metadata": {},
          "execution_count": 10
        },
        {
          "output_type": "display_data",
          "data": {
            "text/plain": [
              "<Figure size 432x288 with 1 Axes>"
            ],
            "image/png": "[encoded data removed]"
          },
          "metadata": {
            "needs_background": "light"
          }
        }
      ]
    }
  ],
  "metadata": {
    "interpreter": {
      "hash": "bd6a6b1b649ed1dd276d0ad113b7a6cbd201e2c8b33ed7040dce60b308725015"
    },
    "kernelspec": {
      "display_name": "Python 3.9.12 ('base')",
      "language": "python",
      "name": "python3"
    },
    "language_info": {
      "codemirror_mode": {
        "name": "ipython",
        "version": 3
      },
      "file_extension": ".py",
      "mimetype": "text/x-python",
      "name": "python",
      "nbconvert_exporter": "python",
      "pygments_lexer": "ipython3",
      "version": "3.9.12"
    },
    "orig_nbformat": 4,
    "colab": {
      "name": "trabalho_final.ipynb",
      "provenance": [],
      "collapsed_sections": [],
      "include_colab_link": true
    },
    "widgets": {
      "application/vnd.jupyter.widget-state+json": {
        "761cc7f67cdd4d19910183bcace30f6f": {
          "model_module": "@jupyter-widgets/controls",
          "model_name": "HBoxModel",
          "model_module_version": "1.5.0",
          "state": {
            "_dom_classes": [],
            "_model_module": "@jupyter-widgets/controls",
            "_model_module_version": "1.5.0",
            "_model_name": "HBoxModel",
            "_view_count": null,
            "_view_module": "@jupyter-widgets/controls",
            "_view_module_version": "1.5.0",
            "_view_name": "HBoxView",
            "box_style": "",
            "children": [
              "IPY_MODEL_f110ef661fc04d3b996c6de87ef1d571",
              "IPY_MODEL_2f0314fd6a5d427d939c7aa05d676fbb",
              "IPY_MODEL_1f6d37feb2034ffaacbf5a8603ea1133"
            ],
            "layout": "IPY_MODEL_bd9feb7799c74b3f899411fdb1f1212c"
          }
        },
        "f110ef661fc04d3b996c6de87ef1d571": {
          "model_module": "@jupyter-widgets/controls",
          "model_name": "HTMLModel",
          "model_module_version": "1.5.0",
          "state": {
            "_dom_classes": [],
            "_model_module": "@jupyter-widgets/controls",
            "_model_module_version": "1.5.0",
            "_model_name": "HTMLModel",
            "_view_count": null,
            "_view_module": "@jupyter-widgets/controls",
            "_view_module_version": "1.5.0",
            "_view_name": "HTMLView",
            "description": "",
            "description_tooltip": null,
            "layout": "IPY_MODEL_e170a1a117d14c489aa35c3601cfa9da",
            "placeholder": "​",
            "style": "IPY_MODEL_4d4ae908584a4d12bb4a62d5fa8177e4",
            "value": "100%"
          }
        },
        "2f0314fd6a5d427d939c7aa05d676fbb": {
          "model_module": "@jupyter-widgets/controls",
          "model_name": "FloatProgressModel",
          "model_module_version": "1.5.0",
          "state": {
            "_dom_classes": [],
            "_model_module": "@jupyter-widgets/controls",
            "_model_module_version": "1.5.0",
            "_model_name": "FloatProgressModel",
            "_view_count": null,
            "_view_module": "@jupyter-widgets/controls",
            "_view_module_version": "1.5.0",
            "_view_name": "ProgressView",
            "bar_style": "success",
            "description": "",
            "description_tooltip": null,
            "layout": "IPY_MODEL_8ff6b25a3e664fd38691aa9c8db6db84",
            "max": 10,
            "min": 0,
            "orientation": "horizontal",
            "style": "IPY_MODEL_f5a9dc6a9b484cb59d47ddf82755de7b",
            "value": 10
          }
        },
        "1f6d37feb2034ffaacbf5a8603ea1133": {
          "model_module": "@jupyter-widgets/controls",
          "model_name": "HTMLModel",
          "model_module_version": "1.5.0",
          "state": {
            "_dom_classes": [],
            "_model_module": "@jupyter-widgets/controls",
            "_model_module_version": "1.5.0",
            "_model_name": "HTMLModel",
            "_view_count": null,
            "_view_module": "@jupyter-widgets/controls",
            "_view_module_version": "1.5.0",
            "_view_name": "HTMLView",
            "description": "",
            "description_tooltip": null,
            "layout": "IPY_MODEL_24514316319e47689b4618aea57c1248",
            "placeholder": "​",
            "style": "IPY_MODEL_9d798d3a09044265af36d39d412acd31",
            "value": " 10/10 [00:56&lt;00:00,  5.61s/it]"
          }
        },
        "bd9feb7799c74b3f899411fdb1f1212c": {
          "model_module": "@jupyter-widgets/base",
          "model_name": "LayoutModel",
          "model_module_version": "1.2.0",
          "state": {
            "_model_module": "@jupyter-widgets/base",
            "_model_module_version": "1.2.0",
            "_model_name": "LayoutModel",
            "_view_count": null,
            "_view_module": "@jupyter-widgets/base",
            "_view_module_version": "1.2.0",
            "_view_name": "LayoutView",
            "align_content": null,
            "align_items": null,
            "align_self": null,
            "border": null,
            "bottom": null,
            "display": null,
            "flex": null,
            "flex_flow": null,
            "grid_area": null,
            "grid_auto_columns": null,
            "grid_auto_flow": null,
            "grid_auto_rows": null,
            "grid_column": null,
            "grid_gap": null,
            "grid_row": null,
            "grid_template_areas": null,
            "grid_template_columns": null,
            "grid_template_rows": null,
            "height": null,
            "justify_content": null,
            "justify_items": null,
            "left": null,
            "margin": null,
            "max_height": null,
            "max_width": null,
            "min_height": null,
            "min_width": null,
            "object_fit": null,
            "object_position": null,
            "order": null,
            "overflow": null,
            "overflow_x": null,
            "overflow_y": null,
            "padding": null,
            "right": null,
            "top": null,
            "visibility": null,
            "width": null
          }
        },
        "e170a1a117d14c489aa35c3601cfa9da": {
          "model_module": "@jupyter-widgets/base",
          "model_name": "LayoutModel",
          "model_module_version": "1.2.0",
          "state": {
            "_model_module": "@jupyter-widgets/base",
            "_model_module_version": "1.2.0",
            "_model_name": "LayoutModel",
            "_view_count": null,
            "_view_module": "@jupyter-widgets/base",
            "_view_module_version": "1.2.0",
            "_view_name": "LayoutView",
            "align_content": null,
            "align_items": null,
            "align_self": null,
            "border": null,
            "bottom": null,
            "display": null,
            "flex": null,
            "flex_flow": null,
            "grid_area": null,
            "grid_auto_columns": null,
            "grid_auto_flow": null,
            "grid_auto_rows": null,
            "grid_column": null,
            "grid_gap": null,
            "grid_row": null,
            "grid_template_areas": null,
            "grid_template_columns": null,
            "grid_template_rows": null,
            "height": null,
            "justify_content": null,
            "justify_items": null,
            "left": null,
            "margin": null,
            "max_height": null,
            "max_width": null,
            "min_height": null,
            "min_width": null,
            "object_fit": null,
            "object_position": null,
            "order": null,
            "overflow": null,
            "overflow_x": null,
            "overflow_y": null,
            "padding": null,
            "right": null,
            "top": null,
            "visibility": null,
            "width": null
          }
        },
        "4d4ae908584a4d12bb4a62d5fa8177e4": {
          "model_module": "@jupyter-widgets/controls",
          "model_name": "DescriptionStyleModel",
          "model_module_version": "1.5.0",
          "state": {
            "_model_module": "@jupyter-widgets/controls",
            "_model_module_version": "1.5.0",
            "_model_name": "DescriptionStyleModel",
            "_view_count": null,
            "_view_module": "@jupyter-widgets/base",
            "_view_module_version": "1.2.0",
            "_view_name": "StyleView",
            "description_width": ""
          }
        },
        "8ff6b25a3e664fd38691aa9c8db6db84": {
          "model_module": "@jupyter-widgets/base",
          "model_name": "LayoutModel",
          "model_module_version": "1.2.0",
          "state": {
            "_model_module": "@jupyter-widgets/base",
            "_model_module_version": "1.2.0",
            "_model_name": "LayoutModel",
            "_view_count": null,
            "_view_module": "@jupyter-widgets/base",
            "_view_module_version": "1.2.0",
            "_view_name": "LayoutView",
            "align_content": null,
            "align_items": null,
            "align_self": null,
            "border": null,
            "bottom": null,
            "display": null,
            "flex": null,
            "flex_flow": null,
            "grid_area": null,
            "grid_auto_columns": null,
            "grid_auto_flow": null,
            "grid_auto_rows": null,
            "grid_column": null,
            "grid_gap": null,
            "grid_row": null,
            "grid_template_areas": null,
            "grid_template_columns": null,
            "grid_template_rows": null,
            "height": null,
            "justify_content": null,
            "justify_items": null,
            "left": null,
            "margin": null,
            "max_height": null,
            "max_width": null,
            "min_height": null,
            "min_width": null,
            "object_fit": null,
            "object_position": null,
            "order": null,
            "overflow": null,
            "overflow_x": null,
            "overflow_y": null,
            "padding": null,
            "right": null,
            "top": null,
            "visibility": null,
            "width": null
          }
        },
        "f5a9dc6a9b484cb59d47ddf82755de7b": {
          "model_module": "@jupyter-widgets/controls",
          "model_name": "ProgressStyleModel",
          "model_module_version": "1.5.0",
          "state": {
            "_model_module": "@jupyter-widgets/controls",
            "_model_module_version": "1.5.0",
            "_model_name": "ProgressStyleModel",
            "_view_count": null,
            "_view_module": "@jupyter-widgets/base",
            "_view_module_version": "1.2.0",
            "_view_name": "StyleView",
            "bar_color": null,
            "description_width": ""
          }
        },
        "24514316319e47689b4618aea57c1248": {
          "model_module": "@jupyter-widgets/base",
          "model_name": "LayoutModel",
          "model_module_version": "1.2.0",
          "state": {
            "_model_module": "@jupyter-widgets/base",
            "_model_module_version": "1.2.0",
            "_model_name": "LayoutModel",
            "_view_count": null,
            "_view_module": "@jupyter-widgets/base",
            "_view_module_version": "1.2.0",
            "_view_name": "LayoutView",
            "align_content": null,
            "align_items": null,
            "align_self": null,
            "border": null,
            "bottom": null,
            "display": null,
            "flex": null,
            "flex_flow": null,
            "grid_area": null,
            "grid_auto_columns": null,
            "grid_auto_flow": null,
            "grid_auto_rows": null,
            "grid_column": null,
            "grid_gap": null,
            "grid_row": null,
            "grid_template_areas": null,
            "grid_template_columns": null,
            "grid_template_rows": null,
            "height": null,
            "justify_content": null,
            "justify_items": null,
            "left": null,
            "margin": null,
            "max_height": null,
            "max_width": null,
            "min_height": null,
            "min_width": null,
            "object_fit": null,
            "object_position": null,
            "order": null,
            "overflow": null,
            "overflow_x": null,
            "overflow_y": null,
            "padding": null,
            "right": null,
            "top": null,
            "visibility": null,
            "width": null
          }
        },
        "9d798d3a09044265af36d39d412acd31": {
          "model_module": "@jupyter-widgets/controls",
          "model_name": "DescriptionStyleModel",
          "model_module_version": "1.5.0",
          "state": {
            "_model_module": "@jupyter-widgets/controls",
            "_model_module_version": "1.5.0",
            "_model_name": "DescriptionStyleModel",
            "_view_count": null,
            "_view_module": "@jupyter-widgets/base",
            "_view_module_version": "1.2.0",
            "_view_name": "StyleView",
            "description_width": ""
          }
        },
        "9247b65375a24b99a3771d64f7aec538": {
          "model_module": "@jupyter-widgets/controls",
          "model_name": "HBoxModel",
          "model_module_version": "1.5.0",
          "state": {
            "_dom_classes": [],
            "_model_module": "@jupyter-widgets/controls",
            "_model_module_version": "1.5.0",
            "_model_name": "HBoxModel",
            "_view_count": null,
            "_view_module": "@jupyter-widgets/controls",
            "_view_module_version": "1.5.0",
            "_view_name": "HBoxView",
            "box_style": "",
            "children": [
              "IPY_MODEL_a57e0e6e0dd7434098369e84eda83cfe",
              "IPY_MODEL_c6610ce6b7ae4e43af59a315240b49a5",
              "IPY_MODEL_fbca39428e624db9be650bf89e704217"
            ],
            "layout": "IPY_MODEL_393a415c81b048319fd68c09b4f13f3b"
          }
        },
        "a57e0e6e0dd7434098369e84eda83cfe": {
          "model_module": "@jupyter-widgets/controls",
          "model_name": "HTMLModel",
          "model_module_version": "1.5.0",
          "state": {
            "_dom_classes": [],
            "_model_module": "@jupyter-widgets/controls",
            "_model_module_version": "1.5.0",
            "_model_name": "HTMLModel",
            "_view_count": null,
            "_view_module": "@jupyter-widgets/controls",
            "_view_module_version": "1.5.0",
            "_view_name": "HTMLView",
            "description": "",
            "description_tooltip": null,
            "layout": "IPY_MODEL_7c5fd823beaf43239fc7407f229ca306",
            "placeholder": "​",
            "style": "IPY_MODEL_d3cbdf18ce76487dad6ca31ab524b97e",
            "value": "100%"
          }
        },
        "c6610ce6b7ae4e43af59a315240b49a5": {
          "model_module": "@jupyter-widgets/controls",
          "model_name": "FloatProgressModel",
          "model_module_version": "1.5.0",
          "state": {
            "_dom_classes": [],
            "_model_module": "@jupyter-widgets/controls",
            "_model_module_version": "1.5.0",
            "_model_name": "FloatProgressModel",
            "_view_count": null,
            "_view_module": "@jupyter-widgets/controls",
            "_view_module_version": "1.5.0",
            "_view_name": "ProgressView",
            "bar_style": "success",
            "description": "",
            "description_tooltip": null,
            "layout": "IPY_MODEL_a6637ddb95674a9f93346aa17f435a13",
            "max": 10,
            "min": 0,
            "orientation": "horizontal",
            "style": "IPY_MODEL_f31ac684ec4344b1960de64b059a0432",
            "value": 10
          }
        },
        "fbca39428e624db9be650bf89e704217": {
          "model_module": "@jupyter-widgets/controls",
          "model_name": "HTMLModel",
          "model_module_version": "1.5.0",
          "state": {
            "_dom_classes": [],
            "_model_module": "@jupyter-widgets/controls",
            "_model_module_version": "1.5.0",
            "_model_name": "HTMLModel",
            "_view_count": null,
            "_view_module": "@jupyter-widgets/controls",
            "_view_module_version": "1.5.0",
            "_view_name": "HTMLView",
            "description": "",
            "description_tooltip": null,
            "layout": "IPY_MODEL_21e58a71fa4e4e67a4b9d69114a39870",
            "placeholder": "​",
            "style": "IPY_MODEL_cc4df9daab4c4000bea3e447c1739aff",
            "value": " 10/10 [00:01&lt;00:00,  7.60it/s]"
          }
        },
        "393a415c81b048319fd68c09b4f13f3b": {
          "model_module": "@jupyter-widgets/base",
          "model_name": "LayoutModel",
          "model_module_version": "1.2.0",
          "state": {
            "_model_module": "@jupyter-widgets/base",
            "_model_module_version": "1.2.0",
            "_model_name": "LayoutModel",
            "_view_count": null,
            "_view_module": "@jupyter-widgets/base",
            "_view_module_version": "1.2.0",
            "_view_name": "LayoutView",
            "align_content": null,
            "align_items": null,
            "align_self": null,
            "border": null,
            "bottom": null,
            "display": null,
            "flex": null,
            "flex_flow": null,
            "grid_area": null,
            "grid_auto_columns": null,
            "grid_auto_flow": null,
            "grid_auto_rows": null,
            "grid_column": null,
            "grid_gap": null,
            "grid_row": null,
            "grid_template_areas": null,
            "grid_template_columns": null,
            "grid_template_rows": null,
            "height": null,
            "justify_content": null,
            "justify_items": null,
            "left": null,
            "margin": null,
            "max_height": null,
            "max_width": null,
            "min_height": null,
            "min_width": null,
            "object_fit": null,
            "object_position": null,
            "order": null,
            "overflow": null,
            "overflow_x": null,
            "overflow_y": null,
            "padding": null,
            "right": null,
            "top": null,
            "visibility": null,
            "width": null
          }
        },
        "7c5fd823beaf43239fc7407f229ca306": {
          "model_module": "@jupyter-widgets/base",
          "model_name": "LayoutModel",
          "model_module_version": "1.2.0",
          "state": {
            "_model_module": "@jupyter-widgets/base",
            "_model_module_version": "1.2.0",
            "_model_name": "LayoutModel",
            "_view_count": null,
            "_view_module": "@jupyter-widgets/base",
            "_view_module_version": "1.2.0",
            "_view_name": "LayoutView",
            "align_content": null,
            "align_items": null,
            "align_self": null,
            "border": null,
            "bottom": null,
            "display": null,
            "flex": null,
            "flex_flow": null,
            "grid_area": null,
            "grid_auto_columns": null,
            "grid_auto_flow": null,
            "grid_auto_rows": null,
            "grid_column": null,
            "grid_gap": null,
            "grid_row": null,
            "grid_template_areas": null,
            "grid_template_columns": null,
            "grid_template_rows": null,
            "height": null,
            "justify_content": null,
            "justify_items": null,
            "left": null,
            "margin": null,
            "max_height": null,
            "max_width": null,
            "min_height": null,
            "min_width": null,
            "object_fit": null,
            "object_position": null,
            "order": null,
            "overflow": null,
            "overflow_x": null,
            "overflow_y": null,
            "padding": null,
            "right": null,
            "top": null,
            "visibility": null,
            "width": null
          }
        },
        "d3cbdf18ce76487dad6ca31ab524b97e": {
          "model_module": "@jupyter-widgets/controls",
          "model_name": "DescriptionStyleModel",
          "model_module_version": "1.5.0",
          "state": {
            "_model_module": "@jupyter-widgets/controls",
            "_model_module_version": "1.5.0",
            "_model_name": "DescriptionStyleModel",
            "_view_count": null,
            "_view_module": "@jupyter-widgets/base",
            "_view_module_version": "1.2.0",
            "_view_name": "StyleView",
            "description_width": ""
          }
        },
        "a6637ddb95674a9f93346aa17f435a13": {
          "model_module": "@jupyter-widgets/base",
          "model_name": "LayoutModel",
          "model_module_version": "1.2.0",
          "state": {
            "_model_module": "@jupyter-widgets/base",
            "_model_module_version": "1.2.0",
            "_model_name": "LayoutModel",
            "_view_count": null,
            "_view_module": "@jupyter-widgets/base",
            "_view_module_version": "1.2.0",
            "_view_name": "LayoutView",
            "align_content": null,
            "align_items": null,
            "align_self": null,
            "border": null,
            "bottom": null,
            "display": null,
            "flex": null,
            "flex_flow": null,
            "grid_area": null,
            "grid_auto_columns": null,
            "grid_auto_flow": null,
            "grid_auto_rows": null,
            "grid_column": null,
            "grid_gap": null,
            "grid_row": null,
            "grid_template_areas": null,
            "grid_template_columns": null,
            "grid_template_rows": null,
            "height": null,
            "justify_content": null,
            "justify_items": null,
            "left": null,
            "margin": null,
            "max_height": null,
            "max_width": null,
            "min_height": null,
            "min_width": null,
            "object_fit": null,
            "object_position": null,
            "order": null,
            "overflow": null,
            "overflow_x": null,
            "overflow_y": null,
            "padding": null,
            "right": null,
            "top": null,
            "visibility": null,
            "width": null
          }
        },
        "f31ac684ec4344b1960de64b059a0432": {
          "model_module": "@jupyter-widgets/controls",
          "model_name": "ProgressStyleModel",
          "model_module_version": "1.5.0",
          "state": {
            "_model_module": "@jupyter-widgets/controls",
            "_model_module_version": "1.5.0",
            "_model_name": "ProgressStyleModel",
            "_view_count": null,
            "_view_module": "@jupyter-widgets/base",
            "_view_module_version": "1.2.0",
            "_view_name": "StyleView",
            "bar_color": null,
            "description_width": ""
          }
        },
        "21e58a71fa4e4e67a4b9d69114a39870": {
          "model_module": "@jupyter-widgets/base",
          "model_name": "LayoutModel",
          "model_module_version": "1.2.0",
          "state": {
            "_model_module": "@jupyter-widgets/base",
            "_model_module_version": "1.2.0",
            "_model_name": "LayoutModel",
            "_view_count": null,
            "_view_module": "@jupyter-widgets/base",
            "_view_module_version": "1.2.0",
            "_view_name": "LayoutView",
            "align_content": null,
            "align_items": null,
            "align_self": null,
            "border": null,
            "bottom": null,
            "display": null,
            "flex": null,
            "flex_flow": null,
            "grid_area": null,
            "grid_auto_columns": null,
            "grid_auto_flow": null,
            "grid_auto_rows": null,
            "grid_column": null,
            "grid_gap": null,
            "grid_row": null,
            "grid_template_areas": null,
            "grid_template_columns": null,
            "grid_template_rows": null,
            "height": null,
            "justify_content": null,
            "justify_items": null,
            "left": null,
            "margin": null,
            "max_height": null,
            "max_width": null,
            "min_height": null,
            "min_width": null,
            "object_fit": null,
            "object_position": null,
            "order": null,
            "overflow": null,
            "overflow_x": null,
            "overflow_y": null,
            "padding": null,
            "right": null,
            "top": null,
            "visibility": null,
            "width": null
          }
        },
        "cc4df9daab4c4000bea3e447c1739aff": {
          "model_module": "@jupyter-widgets/controls",
          "model_name": "DescriptionStyleModel",
          "model_module_version": "1.5.0",
          "state": {
            "_model_module": "@jupyter-widgets/controls",
            "_model_module_version": "1.5.0",
            "_model_name": "DescriptionStyleModel",
            "_view_count": null,
            "_view_module": "@jupyter-widgets/base",
            "_view_module_version": "1.2.0",
            "_view_name": "StyleView",
            "description_width": ""
          }
        },
        "ed78c7d2437f48e19538df5278ce82bf": {
          "model_module": "@jupyter-widgets/controls",
          "model_name": "HBoxModel",
          "model_module_version": "1.5.0",
          "state": {
            "_dom_classes": [],
            "_model_module": "@jupyter-widgets/controls",
            "_model_module_version": "1.5.0",
            "_model_name": "HBoxModel",
            "_view_count": null,
            "_view_module": "@jupyter-widgets/controls",
            "_view_module_version": "1.5.0",
            "_view_name": "HBoxView",
            "box_style": "",
            "children": [
              "IPY_MODEL_c67ad58c0c404965bb6d5dc7d9cc0e7c",
              "IPY_MODEL_f1c4f3a3687149138640636a627a6b26",
              "IPY_MODEL_704b5fcd4a674a8893e8807c8cfffd36"
            ],
            "layout": "IPY_MODEL_f50171bbeb4d46578293847515ba7a94"
          }
        },
        "c67ad58c0c404965bb6d5dc7d9cc0e7c": {
          "model_module": "@jupyter-widgets/controls",
          "model_name": "HTMLModel",
          "model_module_version": "1.5.0",
          "state": {
            "_dom_classes": [],
            "_model_module": "@jupyter-widgets/controls",
            "_model_module_version": "1.5.0",
            "_model_name": "HTMLModel",
            "_view_count": null,
            "_view_module": "@jupyter-widgets/controls",
            "_view_module_version": "1.5.0",
            "_view_name": "HTMLView",
            "description": "",
            "description_tooltip": null,
            "layout": "IPY_MODEL_4572c3959c434e68bdbec66636cb6049",
            "placeholder": "​",
            "style": "IPY_MODEL_f46ce49a9d5e4beda14d590d24c52bda",
            "value": "100%"
          }
        },
        "f1c4f3a3687149138640636a627a6b26": {
          "model_module": "@jupyter-widgets/controls",
          "model_name": "FloatProgressModel",
          "model_module_version": "1.5.0",
          "state": {
            "_dom_classes": [],
            "_model_module": "@jupyter-widgets/controls",
            "_model_module_version": "1.5.0",
            "_model_name": "FloatProgressModel",
            "_view_count": null,
            "_view_module": "@jupyter-widgets/controls",
            "_view_module_version": "1.5.0",
            "_view_name": "ProgressView",
            "bar_style": "success",
            "description": "",
            "description_tooltip": null,
            "layout": "IPY_MODEL_d4a345b592bd467e9e3760464fc50d90",
            "max": 10,
            "min": 0,
            "orientation": "horizontal",
            "style": "IPY_MODEL_af400a5e7c8749b3b8b0ea52e6653f93",
            "value": 10
          }
        },
        "704b5fcd4a674a8893e8807c8cfffd36": {
          "model_module": "@jupyter-widgets/controls",
          "model_name": "HTMLModel",
          "model_module_version": "1.5.0",
          "state": {
            "_dom_classes": [],
            "_model_module": "@jupyter-widgets/controls",
            "_model_module_version": "1.5.0",
            "_model_name": "HTMLModel",
            "_view_count": null,
            "_view_module": "@jupyter-widgets/controls",
            "_view_module_version": "1.5.0",
            "_view_name": "HTMLView",
            "description": "",
            "description_tooltip": null,
            "layout": "IPY_MODEL_ce5b190eec44444a8e5a058a6a316914",
            "placeholder": "​",
            "style": "IPY_MODEL_13434f65ed7640b891c73560795e40a5",
            "value": " 10/10 [00:00&lt;00:00, 205.10it/s]"
          }
        },
        "f50171bbeb4d46578293847515ba7a94": {
          "model_module": "@jupyter-widgets/base",
          "model_name": "LayoutModel",
          "model_module_version": "1.2.0",
          "state": {
            "_model_module": "@jupyter-widgets/base",
            "_model_module_version": "1.2.0",
            "_model_name": "LayoutModel",
            "_view_count": null,
            "_view_module": "@jupyter-widgets/base",
            "_view_module_version": "1.2.0",
            "_view_name": "LayoutView",
            "align_content": null,
            "align_items": null,
            "align_self": null,
            "border": null,
            "bottom": null,
            "display": null,
            "flex": null,
            "flex_flow": null,
            "grid_area": null,
            "grid_auto_columns": null,
            "grid_auto_flow": null,
            "grid_auto_rows": null,
            "grid_column": null,
            "grid_gap": null,
            "grid_row": null,
            "grid_template_areas": null,
            "grid_template_columns": null,
            "grid_template_rows": null,
            "height": null,
            "justify_content": null,
            "justify_items": null,
            "left": null,
            "margin": null,
            "max_height": null,
            "max_width": null,
            "min_height": null,
            "min_width": null,
            "object_fit": null,
            "object_position": null,
            "order": null,
            "overflow": null,
            "overflow_x": null,
            "overflow_y": null,
            "padding": null,
            "right": null,
            "top": null,
            "visibility": null,
            "width": null
          }
        },
        "4572c3959c434e68bdbec66636cb6049": {
          "model_module": "@jupyter-widgets/base",
          "model_name": "LayoutModel",
          "model_module_version": "1.2.0",
          "state": {
            "_model_module": "@jupyter-widgets/base",
            "_model_module_version": "1.2.0",
            "_model_name": "LayoutModel",
            "_view_count": null,
            "_view_module": "@jupyter-widgets/base",
            "_view_module_version": "1.2.0",
            "_view_name": "LayoutView",
            "align_content": null,
            "align_items": null,
            "align_self": null,
            "border": null,
            "bottom": null,
            "display": null,
            "flex": null,
            "flex_flow": null,
            "grid_area": null,
            "grid_auto_columns": null,
            "grid_auto_flow": null,
            "grid_auto_rows": null,
            "grid_column": null,
            "grid_gap": null,
            "grid_row": null,
            "grid_template_areas": null,
            "grid_template_columns": null,
            "grid_template_rows": null,
            "height": null,
            "justify_content": null,
            "justify_items": null,
            "left": null,
            "margin": null,
            "max_height": null,
            "max_width": null,
            "min_height": null,
            "min_width": null,
            "object_fit": null,
            "object_position": null,
            "order": null,
            "overflow": null,
            "overflow_x": null,
            "overflow_y": null,
            "padding": null,
            "right": null,
            "top": null,
            "visibility": null,
            "width": null
          }
        },
        "f46ce49a9d5e4beda14d590d24c52bda": {
          "model_module": "@jupyter-widgets/controls",
          "model_name": "DescriptionStyleModel",
          "model_module_version": "1.5.0",
          "state": {
            "_model_module": "@jupyter-widgets/controls",
            "_model_module_version": "1.5.0",
            "_model_name": "DescriptionStyleModel",
            "_view_count": null,
            "_view_module": "@jupyter-widgets/base",
            "_view_module_version": "1.2.0",
            "_view_name": "StyleView",
            "description_width": ""
          }
        },
        "d4a345b592bd467e9e3760464fc50d90": {
          "model_module": "@jupyter-widgets/base",
          "model_name": "LayoutModel",
          "model_module_version": "1.2.0",
          "state": {
            "_model_module": "@jupyter-widgets/base",
            "_model_module_version": "1.2.0",
            "_model_name": "LayoutModel",
            "_view_count": null,
            "_view_module": "@jupyter-widgets/base",
            "_view_module_version": "1.2.0",
            "_view_name": "LayoutView",
            "align_content": null,
            "align_items": null,
            "align_self": null,
            "border": null,
            "bottom": null,
            "display": null,
            "flex": null,
            "flex_flow": null,
            "grid_area": null,
            "grid_auto_columns": null,
            "grid_auto_flow": null,
            "grid_auto_rows": null,
            "grid_column": null,
            "grid_gap": null,
            "grid_row": null,
            "grid_template_areas": null,
            "grid_template_columns": null,
            "grid_template_rows": null,
            "height": null,
            "justify_content": null,
            "justify_items": null,
            "left": null,
            "margin": null,
            "max_height": null,
            "max_width": null,
            "min_height": null,
            "min_width": null,
            "object_fit": null,
            "object_position": null,
            "order": null,
            "overflow": null,
            "overflow_x": null,
            "overflow_y": null,
            "padding": null,
            "right": null,
            "top": null,
            "visibility": null,
            "width": null
          }
        },
        "af400a5e7c8749b3b8b0ea52e6653f93": {
          "model_module": "@jupyter-widgets/controls",
          "model_name": "ProgressStyleModel",
          "model_module_version": "1.5.0",
          "state": {
            "_model_module": "@jupyter-widgets/controls",
            "_model_module_version": "1.5.0",
            "_model_name": "ProgressStyleModel",
            "_view_count": null,
            "_view_module": "@jupyter-widgets/base",
            "_view_module_version": "1.2.0",
            "_view_name": "StyleView",
            "bar_color": null,
            "description_width": ""
          }
        },
        "ce5b190eec44444a8e5a058a6a316914": {
          "model_module": "@jupyter-widgets/base",
          "model_name": "LayoutModel",
          "model_module_version": "1.2.0",
          "state": {
            "_model_module": "@jupyter-widgets/base",
            "_model_module_version": "1.2.0",
            "_model_name": "LayoutModel",
            "_view_count": null,
            "_view_module": "@jupyter-widgets/base",
            "_view_module_version": "1.2.0",
            "_view_name": "LayoutView",
            "align_content": null,
            "align_items": null,
            "align_self": null,
            "border": null,
            "bottom": null,
            "display": null,
            "flex": null,
            "flex_flow": null,
            "grid_area": null,
            "grid_auto_columns": null,
            "grid_auto_flow": null,
            "grid_auto_rows": null,
            "grid_column": null,
            "grid_gap": null,
            "grid_row": null,
            "grid_template_areas": null,
            "grid_template_columns": null,
            "grid_template_rows": null,
            "height": null,
            "justify_content": null,
            "justify_items": null,
            "left": null,
            "margin": null,
            "max_height": null,
            "max_width": null,
            "min_height": null,
            "min_width": null,
            "object_fit": null,
            "object_position": null,
            "order": null,
            "overflow": null,
            "overflow_x": null,
            "overflow_y": null,
            "padding": null,
            "right": null,
            "top": null,
            "visibility": null,
            "width": null
          }
        },
        "13434f65ed7640b891c73560795e40a5": {
          "model_module": "@jupyter-widgets/controls",
          "model_name": "DescriptionStyleModel",
          "model_module_version": "1.5.0",
          "state": {
            "_model_module": "@jupyter-widgets/controls",
            "_model_module_version": "1.5.0",
            "_model_name": "DescriptionStyleModel",
            "_view_count": null,
            "_view_module": "@jupyter-widgets/base",
            "_view_module_version": "1.2.0",
            "_view_name": "StyleView",
            "description_width": ""
          }
        }
      }
    }
  },
  "nbformat": 4,
  "nbformat_minor": 0
}